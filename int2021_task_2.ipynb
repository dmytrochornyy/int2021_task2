{
  "nbformat": 4,
  "nbformat_minor": 0,
  "metadata": {
    "colab": {
      "name": "int2021_task_2.ipynb",
      "provenance": [],
      "collapsed_sections": []
    },
    "kernelspec": {
      "name": "python3",
      "display_name": "Python 3"
    }
  },
  "cells": [
    {
      "cell_type": "markdown",
      "metadata": {
        "id": "dgJOnFbDv_qR"
      },
      "source": [
        "Task 2 (Analytical). Ви - аналітик в стартапі, вам потрібно допомогти\r\n",
        "маркетинговій команді розрахувати ключові показники. Ваш стартап - додаток\r\n",
        "у якого модель монетизації є підписка. Спочатку юзер бере тріал (він триває 7\r\n",
        "днів), після кінця тріалу він може відписатись, або ж продовжити платити за\r\n",
        "тижневу підписку. Підписка коштує 9.99 за тиждень. Юзер може відписатись у\r\n",
        "будь-який момент, після цього він не буде більше платити.\r\n",
        "\r\n",
        "Ваше завдання - розрахувати LTV за допомогою Python. Будемо оцінювати\r\n",
        "ваше загальне розуміння завдання та результат. У файлі data_analytics.csv ви\r\n",
        "знайдете фрагмент бази даних, що вам потрібна, де:\r\n",
        "\r\n",
        "Event Date – дата коли відбулась подія (тріал чи продовження підписки).\r\n",
        "\r\n",
        "Subscription Offer Type – тип підписки (якщо вказано Free Trial - значить це\r\n",
        "початок тріалу, якщо поле пусте - це підписка).\r\n",
        "\r\n",
        "LTV – lifetime value. У цьому випадку рахується через конверсії з тріалу в\r\n",
        "оплату і потім в наступні оплати. \r\n",
        "\r\n",
        "LTV = ([1]+[2]+[3]+[4]+[5]), де [1] = (dev proceeds * Conversion to trial), а [2] = [1] * 1st\r\n",
        "purchase to 2nd, [3] = [2] * 2nd to 3rd і тд.\r\n",
        "\r\n",
        "Важливо! Apple Store забирає собі 30% від вартості підписки. LTV в цьому\r\n",
        "випадку ми будемо рахувати на 6 тижнів(1 тиждень тріалу та 5 підписки)."
      ]
    },
    {
      "cell_type": "markdown",
      "metadata": {
        "id": "ADIf4jJeIkIP"
      },
      "source": [
        "Importing lib\r\n"
      ]
    },
    {
      "cell_type": "code",
      "metadata": {
        "id": "4FMnQTQJHp6o"
      },
      "source": [
        "import pandas as pd"
      ],
      "execution_count": null,
      "outputs": []
    },
    {
      "cell_type": "markdown",
      "metadata": {
        "id": "SABVJQ_yHR6K"
      },
      "source": [
        "Looking at data"
      ]
    },
    {
      "cell_type": "code",
      "metadata": {
        "id": "JewY4DR2viXp"
      },
      "source": [
        "raw_data = pd.read_csv(\"/content/drive/MyDrive/int2020/Task2/data_analytics.csv\", parse_dates=[\"Event Date\"])"
      ],
      "execution_count": null,
      "outputs": []
    },
    {
      "cell_type": "code",
      "metadata": {
        "colab": {
          "base_uri": "https://localhost:8080/",
          "height": 247
        },
        "id": "D_LIMOzyIo0w",
        "outputId": "c6f4be88-c803-4d65-9824-4fbef1e25df4"
      },
      "source": [
        "raw_data.head(3)"
      ],
      "execution_count": null,
      "outputs": [
        {
          "output_type": "execute_result",
          "data": {
            "text/html": [
              "<div>\n",
              "<style scoped>\n",
              "    .dataframe tbody tr th:only-of-type {\n",
              "        vertical-align: middle;\n",
              "    }\n",
              "\n",
              "    .dataframe tbody tr th {\n",
              "        vertical-align: top;\n",
              "    }\n",
              "\n",
              "    .dataframe thead th {\n",
              "        text-align: right;\n",
              "    }\n",
              "</style>\n",
              "<table border=\"1\" class=\"dataframe\">\n",
              "  <thead>\n",
              "    <tr style=\"text-align: right;\">\n",
              "      <th></th>\n",
              "      <th>Event Date</th>\n",
              "      <th>App Apple ID</th>\n",
              "      <th>Subscription Name</th>\n",
              "      <th>Standard Subscription Duration</th>\n",
              "      <th>Promotional Offer Name</th>\n",
              "      <th>Promotional Offer ID</th>\n",
              "      <th>Subscription Offer Type</th>\n",
              "      <th>Subscription Offer Duration</th>\n",
              "      <th>Marketing Opt-In Duration</th>\n",
              "      <th>Customer Currency</th>\n",
              "      <th>Proceeds Currency</th>\n",
              "      <th>Device</th>\n",
              "      <th>Country</th>\n",
              "      <th>Subscriber ID</th>\n",
              "      <th>Subscriber ID Reset</th>\n",
              "      <th>Refund</th>\n",
              "      <th>Purchase Date</th>\n",
              "      <th>Units</th>\n",
              "    </tr>\n",
              "  </thead>\n",
              "  <tbody>\n",
              "    <tr>\n",
              "      <th>0</th>\n",
              "      <td>2019-07-15</td>\n",
              "      <td>1</td>\n",
              "      <td>weekly 9.99 + 7D trial</td>\n",
              "      <td>7 Days</td>\n",
              "      <td>NaN</td>\n",
              "      <td>NaN</td>\n",
              "      <td>Free Trial</td>\n",
              "      <td>7 Days</td>\n",
              "      <td>NaN</td>\n",
              "      <td>IDR</td>\n",
              "      <td>IDR</td>\n",
              "      <td>iPhone</td>\n",
              "      <td>ID</td>\n",
              "      <td>223411322456765433</td>\n",
              "      <td>NaN</td>\n",
              "      <td>NaN</td>\n",
              "      <td>NaN</td>\n",
              "      <td>1</td>\n",
              "    </tr>\n",
              "    <tr>\n",
              "      <th>1</th>\n",
              "      <td>2019-07-15</td>\n",
              "      <td>1</td>\n",
              "      <td>weekly 9.99 + 7D trial</td>\n",
              "      <td>7 Days</td>\n",
              "      <td>NaN</td>\n",
              "      <td>NaN</td>\n",
              "      <td>Free Trial</td>\n",
              "      <td>7 Days</td>\n",
              "      <td>NaN</td>\n",
              "      <td>USD</td>\n",
              "      <td>USD</td>\n",
              "      <td>iPhone</td>\n",
              "      <td>US</td>\n",
              "      <td>223411322456765434</td>\n",
              "      <td>NaN</td>\n",
              "      <td>NaN</td>\n",
              "      <td>NaN</td>\n",
              "      <td>1</td>\n",
              "    </tr>\n",
              "    <tr>\n",
              "      <th>2</th>\n",
              "      <td>2019-07-15</td>\n",
              "      <td>1</td>\n",
              "      <td>weekly 9.99 + 7D trial</td>\n",
              "      <td>7 Days</td>\n",
              "      <td>NaN</td>\n",
              "      <td>NaN</td>\n",
              "      <td>Free Trial</td>\n",
              "      <td>7 Days</td>\n",
              "      <td>NaN</td>\n",
              "      <td>INR</td>\n",
              "      <td>INR</td>\n",
              "      <td>iPhone</td>\n",
              "      <td>IN</td>\n",
              "      <td>223411322456765435</td>\n",
              "      <td>NaN</td>\n",
              "      <td>NaN</td>\n",
              "      <td>NaN</td>\n",
              "      <td>1</td>\n",
              "    </tr>\n",
              "  </tbody>\n",
              "</table>\n",
              "</div>"
            ],
            "text/plain": [
              "  Event Date  App Apple ID  ... Purchase Date Units\n",
              "0 2019-07-15             1  ...           NaN     1\n",
              "1 2019-07-15             1  ...           NaN     1\n",
              "2 2019-07-15             1  ...           NaN     1\n",
              "\n",
              "[3 rows x 18 columns]"
            ]
          },
          "metadata": {
            "tags": []
          },
          "execution_count": 36
        }
      ]
    },
    {
      "cell_type": "code",
      "metadata": {
        "colab": {
          "base_uri": "https://localhost:8080/"
        },
        "id": "Q4kiWLYTIpI4",
        "outputId": "0d53765e-365c-4963-a98f-50e52ff80b3c"
      },
      "source": [
        "raw_data.shape"
      ],
      "execution_count": null,
      "outputs": [
        {
          "output_type": "execute_result",
          "data": {
            "text/plain": [
              "(2380, 18)"
            ]
          },
          "metadata": {
            "tags": []
          },
          "execution_count": 37
        }
      ]
    },
    {
      "cell_type": "code",
      "metadata": {
        "colab": {
          "base_uri": "https://localhost:8080/"
        },
        "id": "Cz-U4AssNYju",
        "outputId": "78eee4c7-5e30-4e30-8029-4ce77ecc9b27"
      },
      "source": [
        "raw_data.nunique()"
      ],
      "execution_count": null,
      "outputs": [
        {
          "output_type": "execute_result",
          "data": {
            "text/plain": [
              "Event Date                          32\n",
              "App Apple ID                         1\n",
              "Subscription Name                    1\n",
              "Standard Subscription Duration       1\n",
              "Promotional Offer Name               0\n",
              "Promotional Offer ID                 0\n",
              "Subscription Offer Type              1\n",
              "Subscription Offer Duration          1\n",
              "Marketing Opt-In Duration            0\n",
              "Customer Currency                   34\n",
              "Proceeds Currency                   34\n",
              "Device                               2\n",
              "Country                             65\n",
              "Subscriber ID                     1019\n",
              "Subscriber ID Reset                  1\n",
              "Refund                               0\n",
              "Purchase Date                        0\n",
              "Units                                1\n",
              "dtype: int64"
            ]
          },
          "metadata": {
            "tags": []
          },
          "execution_count": 38
        }
      ]
    },
    {
      "cell_type": "code",
      "metadata": {
        "colab": {
          "base_uri": "https://localhost:8080/"
        },
        "id": "53kYY14mRDTr",
        "outputId": "df17fc6e-a86e-4cfc-c43f-412e2313620e"
      },
      "source": [
        "raw_data.isna().sum()"
      ],
      "execution_count": null,
      "outputs": [
        {
          "output_type": "execute_result",
          "data": {
            "text/plain": [
              "Event Date                           0\n",
              "App Apple ID                         0\n",
              "Subscription Name                    0\n",
              "Standard Subscription Duration       0\n",
              "Promotional Offer Name            2380\n",
              "Promotional Offer ID              2380\n",
              "Subscription Offer Type           1361\n",
              "Subscription Offer Duration       1361\n",
              "Marketing Opt-In Duration         2380\n",
              "Customer Currency                    0\n",
              "Proceeds Currency                    0\n",
              "Device                               0\n",
              "Country                              7\n",
              "Subscriber ID                        0\n",
              "Subscriber ID Reset               2376\n",
              "Refund                            2380\n",
              "Purchase Date                     2380\n",
              "Units                                0\n",
              "dtype: int64"
            ]
          },
          "metadata": {
            "tags": []
          },
          "execution_count": 39
        }
      ]
    },
    {
      "cell_type": "markdown",
      "metadata": {
        "id": "776nLOvlOX78"
      },
      "source": [
        "Selecting relevant columns and changing names to convinient use "
      ]
    },
    {
      "cell_type": "code",
      "metadata": {
        "id": "tME5RJL-NY32"
      },
      "source": [
        "df = raw_data[[\"Event Date\", \"Subscriber ID\", \"Subscription Offer Type\"]].rename(columns={\r\n",
        "    \"Event Date\": \"date\",\r\n",
        "    \"Subscriber ID\": \"id\",\r\n",
        "    \"Subscription Offer Type\": \"paid\"\r\n",
        "})\r\n",
        "df.paid = df.paid.replace(\"Free Trial\", 0).fillna(1).apply(int)"
      ],
      "execution_count": null,
      "outputs": []
    },
    {
      "cell_type": "code",
      "metadata": {
        "colab": {
          "base_uri": "https://localhost:8080/",
          "height": 142
        },
        "id": "j_rm1cq-U6WL",
        "outputId": "f5a41d70-4ad4-44c6-91c8-ed033c0ed115"
      },
      "source": [
        "df.head(3)"
      ],
      "execution_count": null,
      "outputs": [
        {
          "output_type": "execute_result",
          "data": {
            "text/html": [
              "<div>\n",
              "<style scoped>\n",
              "    .dataframe tbody tr th:only-of-type {\n",
              "        vertical-align: middle;\n",
              "    }\n",
              "\n",
              "    .dataframe tbody tr th {\n",
              "        vertical-align: top;\n",
              "    }\n",
              "\n",
              "    .dataframe thead th {\n",
              "        text-align: right;\n",
              "    }\n",
              "</style>\n",
              "<table border=\"1\" class=\"dataframe\">\n",
              "  <thead>\n",
              "    <tr style=\"text-align: right;\">\n",
              "      <th></th>\n",
              "      <th>date</th>\n",
              "      <th>id</th>\n",
              "      <th>paid</th>\n",
              "    </tr>\n",
              "  </thead>\n",
              "  <tbody>\n",
              "    <tr>\n",
              "      <th>0</th>\n",
              "      <td>2019-07-15</td>\n",
              "      <td>223411322456765433</td>\n",
              "      <td>0</td>\n",
              "    </tr>\n",
              "    <tr>\n",
              "      <th>1</th>\n",
              "      <td>2019-07-15</td>\n",
              "      <td>223411322456765434</td>\n",
              "      <td>0</td>\n",
              "    </tr>\n",
              "    <tr>\n",
              "      <th>2</th>\n",
              "      <td>2019-07-15</td>\n",
              "      <td>223411322456765435</td>\n",
              "      <td>0</td>\n",
              "    </tr>\n",
              "  </tbody>\n",
              "</table>\n",
              "</div>"
            ],
            "text/plain": [
              "        date                  id  paid\n",
              "0 2019-07-15  223411322456765433     0\n",
              "1 2019-07-15  223411322456765434     0\n",
              "2 2019-07-15  223411322456765435     0"
            ]
          },
          "metadata": {
            "tags": []
          },
          "execution_count": 41
        }
      ]
    },
    {
      "cell_type": "markdown",
      "metadata": {
        "id": "ZnJybTfSut9U"
      },
      "source": [
        "Looking at first and last date"
      ]
    },
    {
      "cell_type": "code",
      "metadata": {
        "colab": {
          "base_uri": "https://localhost:8080/"
        },
        "id": "9AfUun0DU6jM",
        "outputId": "d31dcab0-1e59-43a0-a418-46c4252c89ee"
      },
      "source": [
        "print(df.date.min())\r\n",
        "print(df.date.max())"
      ],
      "execution_count": null,
      "outputs": [
        {
          "output_type": "stream",
          "text": [
            "2019-07-15 00:00:00\n",
            "2019-08-24 00:00:00\n"
          ],
          "name": "stdout"
        }
      ]
    },
    {
      "cell_type": "markdown",
      "metadata": {
        "id": "SmRnChmOx1bo"
      },
      "source": [
        "Adding new feature - subscribes count"
      ]
    },
    {
      "cell_type": "code",
      "metadata": {
        "id": "uHVbQHxt-RD8"
      },
      "source": [
        "count_of_subs = pd.DataFrame(df.id.value_counts() - 1).reset_index().rename(columns={\"index\":\"id\", \"id\":\"number_of_subs\"})"
      ],
      "execution_count": null,
      "outputs": []
    },
    {
      "cell_type": "code",
      "metadata": {
        "id": "j2Qcri2e-Q_v"
      },
      "source": [
        "df = df.merge(count_of_subs, \"left\", on=\"id\")"
      ],
      "execution_count": null,
      "outputs": []
    },
    {
      "cell_type": "code",
      "metadata": {
        "colab": {
          "base_uri": "https://localhost:8080/",
          "height": 142
        },
        "id": "qEY5OoII-RKH",
        "outputId": "a53c055c-4cb5-46ef-f2f5-08758ea0102c"
      },
      "source": [
        "df.head(3)"
      ],
      "execution_count": null,
      "outputs": [
        {
          "output_type": "execute_result",
          "data": {
            "text/html": [
              "<div>\n",
              "<style scoped>\n",
              "    .dataframe tbody tr th:only-of-type {\n",
              "        vertical-align: middle;\n",
              "    }\n",
              "\n",
              "    .dataframe tbody tr th {\n",
              "        vertical-align: top;\n",
              "    }\n",
              "\n",
              "    .dataframe thead th {\n",
              "        text-align: right;\n",
              "    }\n",
              "</style>\n",
              "<table border=\"1\" class=\"dataframe\">\n",
              "  <thead>\n",
              "    <tr style=\"text-align: right;\">\n",
              "      <th></th>\n",
              "      <th>date</th>\n",
              "      <th>id</th>\n",
              "      <th>paid</th>\n",
              "      <th>week</th>\n",
              "      <th>number_of_subs</th>\n",
              "    </tr>\n",
              "  </thead>\n",
              "  <tbody>\n",
              "    <tr>\n",
              "      <th>0</th>\n",
              "      <td>2019-07-15</td>\n",
              "      <td>223411322456765433</td>\n",
              "      <td>0</td>\n",
              "      <td>1</td>\n",
              "      <td>5</td>\n",
              "    </tr>\n",
              "    <tr>\n",
              "      <th>1</th>\n",
              "      <td>2019-07-15</td>\n",
              "      <td>223411322456765434</td>\n",
              "      <td>0</td>\n",
              "      <td>1</td>\n",
              "      <td>5</td>\n",
              "    </tr>\n",
              "    <tr>\n",
              "      <th>2</th>\n",
              "      <td>2019-07-15</td>\n",
              "      <td>223411322456765435</td>\n",
              "      <td>0</td>\n",
              "      <td>1</td>\n",
              "      <td>5</td>\n",
              "    </tr>\n",
              "  </tbody>\n",
              "</table>\n",
              "</div>"
            ],
            "text/plain": [
              "        date                  id  paid  week  number_of_subs\n",
              "0 2019-07-15  223411322456765433     0     1               5\n",
              "1 2019-07-15  223411322456765434     0     1               5\n",
              "2 2019-07-15  223411322456765435     0     1               5"
            ]
          },
          "metadata": {
            "tags": []
          },
          "execution_count": 47
        }
      ]
    },
    {
      "cell_type": "markdown",
      "metadata": {
        "id": "cRYnjkuc4oCO"
      },
      "source": [
        "Let`s calculate LTV by user, and then calculate the mean\r\n"
      ]
    },
    {
      "cell_type": "code",
      "metadata": {
        "id": "T_0s_oo90fxh"
      },
      "source": [
        "dev_proceeds = 9.99 * 2/3 # because of Apple store"
      ],
      "execution_count": null,
      "outputs": []
    },
    {
      "cell_type": "code",
      "metadata": {
        "id": "UgHbMVL44nPp"
      },
      "source": [
        "ltv_array = count_of_subs.number_of_subs * dev_proceeds"
      ],
      "execution_count": null,
      "outputs": []
    },
    {
      "cell_type": "code",
      "metadata": {
        "id": "FgQKrKvH0f20"
      },
      "source": [
        "customer_ltv = pd.DataFrame({\"id\":count_of_subs.id, \"ltv\":ltv_array})"
      ],
      "execution_count": null,
      "outputs": []
    },
    {
      "cell_type": "code",
      "metadata": {
        "colab": {
          "base_uri": "https://localhost:8080/"
        },
        "id": "8UHAJiYO0f7u",
        "outputId": "718afb8b-1e49-4c0e-a422-6bd7ec09ac06"
      },
      "source": [
        "customer_ltv.ltv.mean()"
      ],
      "execution_count": null,
      "outputs": [
        {
          "output_type": "execute_result",
          "data": {
            "text/plain": [
              "8.895250245338481"
            ]
          },
          "metadata": {
            "tags": []
          },
          "execution_count": 51
        }
      ]
    },
    {
      "cell_type": "markdown",
      "metadata": {
        "id": "b70VSisBzclF"
      },
      "source": [
        "Lets calculate the LTV by conversion"
      ]
    },
    {
      "cell_type": "code",
      "metadata": {
        "id": "_-Wdg3YYzWJN"
      },
      "source": [
        "# conversion - customers that have bought subscription devided by number of all customers\r\n",
        "Conversion_from_trial = sum(count_of_subs.number_of_subs > 0) / len(count_of_subs)\r\n",
        "# number of first purchase to second - number of customers with second subscription \r\n",
        "# devided by number of all customers with second\r\n",
        "conv_to_2 = sum(count_of_subs.number_of_subs > 1) / sum(count_of_subs.number_of_subs > 0)\r\n",
        "conv_to_3 = sum(count_of_subs.number_of_subs > 2) / sum(count_of_subs.number_of_subs > 1)\r\n",
        "conv_to_4 = sum(count_of_subs.number_of_subs > 3) / sum(count_of_subs.number_of_subs > 2)\r\n",
        "conv_to_5 = sum(count_of_subs.number_of_subs > 4) / sum(count_of_subs.number_of_subs > 3)"
      ],
      "execution_count": null,
      "outputs": []
    },
    {
      "cell_type": "code",
      "metadata": {
        "id": "cTe4aMcozWPJ"
      },
      "source": [
        "# calculating all components\r\n",
        "first = dev_proceeds * Conversion_from_trial\r\n",
        "second = first * conv_to_2\r\n",
        "third = second * conv_to_3\r\n",
        "forth = third * conv_to_4\r\n",
        "fifth = forth * conv_to_5"
      ],
      "execution_count": null,
      "outputs": []
    },
    {
      "cell_type": "code",
      "metadata": {
        "id": "fI6VtBZ4zWTq"
      },
      "source": [
        "ltv = first + second + third + forth + fifth"
      ],
      "execution_count": null,
      "outputs": []
    },
    {
      "cell_type": "code",
      "metadata": {
        "colab": {
          "base_uri": "https://localhost:8080/"
        },
        "id": "NO-EQSh-zWYh",
        "outputId": "07c25e1c-21bb-482c-9532-4f6049cd004b"
      },
      "source": [
        "ltv"
      ],
      "execution_count": null,
      "outputs": [
        {
          "output_type": "execute_result",
          "data": {
            "text/plain": [
              "8.895250245338566"
            ]
          },
          "metadata": {
            "tags": []
          },
          "execution_count": 55
        }
      ]
    }
  ]
}